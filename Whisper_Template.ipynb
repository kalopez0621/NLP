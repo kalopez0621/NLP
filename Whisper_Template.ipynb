{
 "cells": [
  {
   "cell_type": "code",
   "execution_count": null,
   "metadata": {
    "vscode": {
     "languageId": "plaintext"
    }
   },
   "outputs": [],
   "source": [
    "!pip install git+https://github.com/openai/whisper.git -qqq"
   ]
  },
  {
   "cell_type": "code",
   "execution_count": null,
   "metadata": {
    "vscode": {
     "languageId": "plaintext"
    }
   },
   "outputs": [],
   "source": [
    "import whisper\n",
    "\n",
    "# Load Whisper model\n",
    "model = whisper.load_model(\"base\")\n",
    "\n",
    "# Transcribe the video file (this will include timestamps by default)\n",
    "result = model.transcribe(\"/content/17-36-32.m4a\")\n",
    "\n",
    "# Extract the transcript without timestamps\n",
    "transcript = result['text']\n",
    "\n",
    "# Display or save the transcript\n",
    "print(transcript)\n",
    "\n",
    "# Optionally, save the transcript to a file\n",
    "with open(\"/content/transcript.txt\", \"w\") as f:\n",
    "    f.write(transcript)\n"
   ]
  }
 ],
 "metadata": {
  "language_info": {
   "name": "python"
  }
 },
 "nbformat": 4,
 "nbformat_minor": 2
}
