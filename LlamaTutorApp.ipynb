{
  "nbformat": 4,
  "nbformat_minor": 0,
  "metadata": {
    "colab": {
      "provenance": [],
      "toc_visible": true,
      "authorship_tag": "ABX9TyMVOQxWinkRmdlBAfTnDupM",
      "include_colab_link": true
    },
    "kernelspec": {
      "name": "python3",
      "display_name": "Python 3"
    },
    "language_info": {
      "name": "python"
    }
  },
  "cells": [
    {
      "cell_type": "markdown",
      "metadata": {
        "id": "view-in-github",
        "colab_type": "text"
      },
      "source": [
        "<a href=\"https://colab.research.google.com/github/kalopez0621/NLP_Projects/blob/main/LlamaTutorApp.ipynb\" target=\"_parent\"><img src=\"https://colab.research.google.com/assets/colab-badge.svg\" alt=\"Open In Colab\"/></a>"
      ]
    },
    {
      "cell_type": "markdown",
      "source": [
        "## Project Purpose:\n",
        "\n",
        "**LlamaTutor** is an AI-powered educational platform designed to help middle school students, specifically those in Florida, with math topics aligned to Florida's B.E.S.T. Standards. It offers personalized tutoring by leveraging state-of-the-art natural language models (like Llama 3.1) and Together AI's API. The application provides students with:\n",
        "\n",
        "* Interactive explanations of key concepts.\n",
        "* Step-by-step problem-solving.\n",
        "* Practice questions.\n",
        "* Sources from curated materials like Florida's official benchmarks.\n"
      ],
      "metadata": {
        "id": "0Cn1l8n-xW4k"
      }
    },
    {
      "cell_type": "markdown",
      "source": [
        "#  How LlamaTutor Works\n",
        "\n",
        "**User Input:**\n",
        "\n",
        "* Students can type in a topic or select a predefined subject (e.g., Number Sense, Algebraic Reasoning).\n",
        "* The application also accepts specific queries like \"Teach me how to multiply fractions.\"\n",
        "**Integration of Florida Standards:**\n",
        "\n",
        "* The system utilizes official educational benchmarks stored in JSON format. These benchmarks are extracted from PDFs provided by the Florida Department of Education.\n",
        "* Example: When a student asks about \"Number Sense,\" the application refers to the stored benchmarks for Grade 6.\n",
        "**Response Generation:**\n",
        "* LlamaTutor uses Together AI's API to fetch responses based on user input.\n",
        "* Example Workflow:\n",
        "  * A student's question is sent to Together AI's chat/completions endpoint.\n",
        "  * The API returns a response, which is displayed to the user in a conversational format.\n",
        "**Educational Sources:**\n",
        "* In addition to generating answers, LlamaTutor fetches reliable sources (web pages, PDFs) related to the student's query using integrated search APIs (e.g., Serper or Bing).\n",
        "* These sources provide additional reading material or videos for further learning.\n",
        "**Interactive Design:**\n",
        "*The app includes quizzes, exercises, and interactive follow-up questions to test comprehension.\n",
        "* Example: After explaining how to multiply fractions, the app asks, \"What is the product of 2/3 and 3/4?\"\n",
        "**Deployment and Accessibility:**\n",
        "* The application is fully deployed on Vercel, allowing easy access for students and teachers. However, this notebook demonstrates its core functionality within Colab.\n"
      ],
      "metadata": {
        "id": "4kSaq106xwOS"
      }
    },
    {
      "cell_type": "markdown",
      "source": [
        "Step 1: Setup and Installation"
      ],
      "metadata": {
        "id": "f4dYrRpG0E9G"
      }
    },
    {
      "cell_type": "code",
      "execution_count": 1,
      "metadata": {
        "colab": {
          "base_uri": "https://localhost:8080/"
        },
        "id": "JHQGl64qxCS1",
        "outputId": "437c84f6-6168-41c5-b6f4-f9d2a055904f"
      },
      "outputs": [
        {
          "output_type": "stream",
          "name": "stdout",
          "text": [
            "Collecting pdfplumber\n",
            "  Downloading pdfplumber-0.11.4-py3-none-any.whl.metadata (41 kB)\n",
            "\u001b[?25l     \u001b[90m━━━━━━━━━━━━━━━━━━━━━━━━━━━━━━━━━━━━━━━━\u001b[0m \u001b[32m0.0/42.0 kB\u001b[0m \u001b[31m?\u001b[0m eta \u001b[36m-:--:--\u001b[0m\r\u001b[2K     \u001b[90m━━━━━━━━━━━━━━━━━━━━━━━━━━━━━━━━━━━━━━━━\u001b[0m \u001b[32m42.0/42.0 kB\u001b[0m \u001b[31m3.4 MB/s\u001b[0m eta \u001b[36m0:00:00\u001b[0m\n",
            "\u001b[?25hRequirement already satisfied: openai in /usr/local/lib/python3.10/dist-packages (1.54.5)\n",
            "Requirement already satisfied: pandas in /usr/local/lib/python3.10/dist-packages (2.2.2)\n",
            "Requirement already satisfied: requests in /usr/local/lib/python3.10/dist-packages (2.32.3)\n",
            "Collecting pdfminer.six==20231228 (from pdfplumber)\n",
            "  Downloading pdfminer.six-20231228-py3-none-any.whl.metadata (4.2 kB)\n",
            "Requirement already satisfied: Pillow>=9.1 in /usr/local/lib/python3.10/dist-packages (from pdfplumber) (11.0.0)\n",
            "Collecting pypdfium2>=4.18.0 (from pdfplumber)\n",
            "  Downloading pypdfium2-4.30.0-py3-none-manylinux_2_17_x86_64.manylinux2014_x86_64.whl.metadata (48 kB)\n",
            "\u001b[2K     \u001b[90m━━━━━━━━━━━━━━━━━━━━━━━━━━━━━━━━━━━━━━━━\u001b[0m \u001b[32m48.5/48.5 kB\u001b[0m \u001b[31m3.9 MB/s\u001b[0m eta \u001b[36m0:00:00\u001b[0m\n",
            "\u001b[?25hRequirement already satisfied: charset-normalizer>=2.0.0 in /usr/local/lib/python3.10/dist-packages (from pdfminer.six==20231228->pdfplumber) (3.4.0)\n",
            "Requirement already satisfied: cryptography>=36.0.0 in /usr/local/lib/python3.10/dist-packages (from pdfminer.six==20231228->pdfplumber) (43.0.3)\n",
            "Requirement already satisfied: anyio<5,>=3.5.0 in /usr/local/lib/python3.10/dist-packages (from openai) (3.7.1)\n",
            "Requirement already satisfied: distro<2,>=1.7.0 in /usr/local/lib/python3.10/dist-packages (from openai) (1.9.0)\n",
            "Requirement already satisfied: httpx<1,>=0.23.0 in /usr/local/lib/python3.10/dist-packages (from openai) (0.28.0)\n",
            "Requirement already satisfied: jiter<1,>=0.4.0 in /usr/local/lib/python3.10/dist-packages (from openai) (0.8.0)\n",
            "Requirement already satisfied: pydantic<3,>=1.9.0 in /usr/local/lib/python3.10/dist-packages (from openai) (2.10.3)\n",
            "Requirement already satisfied: sniffio in /usr/local/lib/python3.10/dist-packages (from openai) (1.3.1)\n",
            "Requirement already satisfied: tqdm>4 in /usr/local/lib/python3.10/dist-packages (from openai) (4.66.6)\n",
            "Requirement already satisfied: typing-extensions<5,>=4.11 in /usr/local/lib/python3.10/dist-packages (from openai) (4.12.2)\n",
            "Requirement already satisfied: numpy>=1.22.4 in /usr/local/lib/python3.10/dist-packages (from pandas) (1.26.4)\n",
            "Requirement already satisfied: python-dateutil>=2.8.2 in /usr/local/lib/python3.10/dist-packages (from pandas) (2.8.2)\n",
            "Requirement already satisfied: pytz>=2020.1 in /usr/local/lib/python3.10/dist-packages (from pandas) (2024.2)\n",
            "Requirement already satisfied: tzdata>=2022.7 in /usr/local/lib/python3.10/dist-packages (from pandas) (2024.2)\n",
            "Requirement already satisfied: idna<4,>=2.5 in /usr/local/lib/python3.10/dist-packages (from requests) (3.10)\n",
            "Requirement already satisfied: urllib3<3,>=1.21.1 in /usr/local/lib/python3.10/dist-packages (from requests) (2.2.3)\n",
            "Requirement already satisfied: certifi>=2017.4.17 in /usr/local/lib/python3.10/dist-packages (from requests) (2024.8.30)\n",
            "Requirement already satisfied: exceptiongroup in /usr/local/lib/python3.10/dist-packages (from anyio<5,>=3.5.0->openai) (1.2.2)\n",
            "Requirement already satisfied: httpcore==1.* in /usr/local/lib/python3.10/dist-packages (from httpx<1,>=0.23.0->openai) (1.0.7)\n",
            "Requirement already satisfied: h11<0.15,>=0.13 in /usr/local/lib/python3.10/dist-packages (from httpcore==1.*->httpx<1,>=0.23.0->openai) (0.14.0)\n",
            "Requirement already satisfied: annotated-types>=0.6.0 in /usr/local/lib/python3.10/dist-packages (from pydantic<3,>=1.9.0->openai) (0.7.0)\n",
            "Requirement already satisfied: pydantic-core==2.27.1 in /usr/local/lib/python3.10/dist-packages (from pydantic<3,>=1.9.0->openai) (2.27.1)\n",
            "Requirement already satisfied: six>=1.5 in /usr/local/lib/python3.10/dist-packages (from python-dateutil>=2.8.2->pandas) (1.16.0)\n",
            "Requirement already satisfied: cffi>=1.12 in /usr/local/lib/python3.10/dist-packages (from cryptography>=36.0.0->pdfminer.six==20231228->pdfplumber) (1.17.1)\n",
            "Requirement already satisfied: pycparser in /usr/local/lib/python3.10/dist-packages (from cffi>=1.12->cryptography>=36.0.0->pdfminer.six==20231228->pdfplumber) (2.22)\n",
            "Downloading pdfplumber-0.11.4-py3-none-any.whl (59 kB)\n",
            "\u001b[2K   \u001b[90m━━━━━━━━━━━━━━━━━━━━━━━━━━━━━━━━━━━━━━━━\u001b[0m \u001b[32m59.2/59.2 kB\u001b[0m \u001b[31m3.3 MB/s\u001b[0m eta \u001b[36m0:00:00\u001b[0m\n",
            "\u001b[?25hDownloading pdfminer.six-20231228-py3-none-any.whl (5.6 MB)\n",
            "\u001b[2K   \u001b[90m━━━━━━━━━━━━━━━━━━━━━━━━━━━━━━━━━━━━━━━━\u001b[0m \u001b[32m5.6/5.6 MB\u001b[0m \u001b[31m37.7 MB/s\u001b[0m eta \u001b[36m0:00:00\u001b[0m\n",
            "\u001b[?25hDownloading pypdfium2-4.30.0-py3-none-manylinux_2_17_x86_64.manylinux2014_x86_64.whl (2.8 MB)\n",
            "\u001b[2K   \u001b[90m━━━━━━━━━━━━━━━━━━━━━━━━━━━━━━━━━━━━━━━━\u001b[0m \u001b[32m2.8/2.8 MB\u001b[0m \u001b[31m48.1 MB/s\u001b[0m eta \u001b[36m0:00:00\u001b[0m\n",
            "\u001b[?25hInstalling collected packages: pypdfium2, pdfminer.six, pdfplumber\n",
            "Successfully installed pdfminer.six-20231228 pdfplumber-0.11.4 pypdfium2-4.30.0\n"
          ]
        }
      ],
      "source": [
        "# Install necessary libraries\n",
        "!pip install pdfplumber openai pandas requests\n"
      ]
    },
    {
      "cell_type": "markdown",
      "source": [
        "Step 2: Florida Standards Integrations\n",
        "Loading Florida standards(benchmarks) from a JSON file"
      ],
      "metadata": {
        "id": "04I__8Eu0avS"
      }
    },
    {
      "cell_type": "code",
      "source": [
        "import json\n",
        "\n",
        "# Load Florida standards\n",
        "def load_standards():\n",
        "    # Simulating the standards JSON file from GitHub\n",
        "    # Replace this URL with your actual JSON file hosted on GitHub\n",
        "    json_url = \"https://raw.githubusercontent.com/kalopez0621/LlamaTutor_New/main/public/standards/grade6_benchmarks.json\"\n",
        "    try:\n",
        "        import requests\n",
        "        response = requests.get(json_url)\n",
        "        if response.status_code == 200:\n",
        "            standards = response.json()\n",
        "            return standards\n",
        "        else:\n",
        "            print(f\"Error loading standards: {response.status_code}\")\n",
        "            return None\n",
        "    except Exception as e:\n",
        "        print(f\"Error: {e}\")\n",
        "        return None\n",
        "\n",
        "standards = load_standards()\n",
        "if standards:\n",
        "    print(\"Standards successfully loaded!\")\n",
        "    print(standards[\"benchmarks\"][:5])  # Display first 5 benchmarks\n",
        "else:\n",
        "    print(\"Failed to load standards.\")\n"
      ],
      "metadata": {
        "colab": {
          "base_uri": "https://localhost:8080/"
        },
        "id": "QAA3TMGy0Qgg",
        "outputId": "891a8607-6855-48c0-88ee-6a9e6730fd00"
      },
      "execution_count": 2,
      "outputs": [
        {
          "output_type": "stream",
          "name": "stdout",
          "text": [
            "Standards successfully loaded!\n",
            "['MA.6.NSO.1.1 Page 2', 'MA.6.NSO.1.2 Page 3', 'MA.6.NSO.1.3 Page 4', 'MA.6.NSO.1.4 Page 4', 'MA.6.NSO.2.1 Page 5']\n"
          ]
        }
      ]
    },
    {
      "cell_type": "markdown",
      "source": [
        "Step 3: API Calls and Response Handling\n",
        "LlamaTutor uses Together AI's API for generating responses"
      ],
      "metadata": {
        "id": "ZEnkklDE0ilB"
      }
    },
    {
      "cell_type": "code",
      "source": [
        "import requests\n",
        "\n",
        "# Together AI API Call\n",
        "TOGETHER_API_KEY = \"f67c747c91109cd9fb2c7327b4107ff5a43dc49db4281cc567f1a0e432ab512a\"  # Replace with your API key\n",
        "\n",
        "def get_response(question):\n",
        "    url = \"https://together.helicone.ai/v1/chat/completions\"\n",
        "    headers = {\n",
        "        \"Content-Type\": \"application/json\",\n",
        "        \"Authorization\": f\"Bearer {TOGETHER_API_KEY}\"\n",
        "    }\n",
        "    payload = {\n",
        "        \"model\": \"meta-llama/Meta-Llama-3.1-8B-Instruct-Turbo\",\n",
        "        \"messages\": [{\"role\": \"user\", \"content\": question}],\n",
        "        \"stream\": False\n",
        "    }\n",
        "\n",
        "    try:\n",
        "        response = requests.post(url, json=payload, headers=headers)\n",
        "        if response.status_code == 200:\n",
        "            data = response.json()\n",
        "            return data[\"choices\"][0][\"message\"][\"content\"]\n",
        "        else:\n",
        "            print(f\"Error: {response.status_code}, {response.text}\")\n",
        "            return \"Sorry, I couldn't generate a response.\"\n",
        "    except Exception as e:\n",
        "        print(f\"Error: {e}\")\n",
        "        return \"An error occurred.\"\n",
        "\n",
        "# Test API call\n",
        "question = \"Can you teach me how to multiply fractions?\"\n",
        "response = get_response(question)\n",
        "print(response)\n"
      ],
      "metadata": {
        "colab": {
          "base_uri": "https://localhost:8080/"
        },
        "id": "S6M8hIA70uZN",
        "outputId": "b09893be-637e-4e4e-f5ea-7b8a1fa79a65"
      },
      "execution_count": 3,
      "outputs": [
        {
          "output_type": "stream",
          "name": "stdout",
          "text": [
            "Multiplying fractions is a relatively simple process. Here's a step-by-step guide:\n",
            "\n",
            "**Multiplying Fractions:**\n",
            "\n",
            "1. **Write down the fractions**: Start by writing down the fractions you want to multiply. For example, let's say you want to multiply 1/2 and 3/4.\n",
            "\n",
            "   1/2 × 3/4\n",
            "\n",
            "2. **Multiply the numerators**: Multiply the top numbers (the numerators) of the fractions. In this case, you multiply 1 and 3.\n",
            "\n",
            "   1 × 3 = 3\n",
            "\n",
            "3. **Multiply the denominators**: Multiply the bottom numbers (the denominators) of the fractions. In this case, you multiply 2 and 4.\n",
            "\n",
            "   2 × 4 = 8\n",
            "\n",
            "4. **Write the product**: Write the product of the numerators (3) over the product of the denominators (8).\n",
            "\n",
            "   3/8\n",
            "\n",
            "That's it! The result of multiplying 1/2 and 3/4 is 3/8.\n",
            "\n",
            "**Example 2:**\n",
            "\n",
            "Let's say you want to multiply 2/3 and 5/6.\n",
            "\n",
            "2/3 × 5/6\n",
            "\n",
            "1. Multiply the numerators: 2 × 5 = 10\n",
            "2. Multiply the denominators: 3 × 6 = 18\n",
            "3. Write the product: 10/18\n",
            "\n",
            "To simplify the fraction, you can divide both the numerator and the denominator by their greatest common divisor (GCD). In this case, the GCD of 10 and 18 is 2. So, you can simplify the fraction by dividing both numbers by 2.\n",
            "\n",
            "10 ÷ 2 = 5\n",
            "18 ÷ 2 = 9\n",
            "\n",
            "The simplified product is 5/9.\n",
            "\n",
            "**Tips:**\n",
            "\n",
            "* When multiplying fractions, you can cancel out any common factors between the numerators and denominators before multiplying.\n",
            "* If you're multiplying a fraction by a whole number, you can multiply the numerator by the whole number and keep the denominator the same.\n",
            "\n",
            "I hope this helps you understand how to multiply fractions!\n"
          ]
        }
      ]
    },
    {
      "cell_type": "markdown",
      "source": [
        "Step 4: Interactive Tutoring Workflow\n",
        "Simulates how the application interacts with students."
      ],
      "metadata": {
        "id": "PtVdwPSJ0xaf"
      }
    },
    {
      "cell_type": "code",
      "source": [
        "def interactive_tutor():\n",
        "    print(\"Welcome to LlamaTutor!\")\n",
        "    while True:\n",
        "        topic = input(\"Enter a topic you'd like to learn (or 'exit' to quit): \")\n",
        "        if topic.lower() == \"exit\":\n",
        "            print(\"Thank you for using LlamaTutor!\")\n",
        "            break\n",
        "\n",
        "        # Check if topic exists in Florida standards\n",
        "        related_benchmarks = [\n",
        "            bm for bm in standards[\"benchmarks\"] if topic.lower() in bm.lower()\n",
        "        ]\n",
        "        if related_benchmarks:\n",
        "            print(f\"Related Benchmarks: {related_benchmarks[:3]}\")\n",
        "        else:\n",
        "            print(\"No related benchmarks found.\")\n",
        "\n",
        "        # Get response from Together AI\n",
        "        response = get_response(topic)\n",
        "        print(\"\\nLlamaTutor Response:\")\n",
        "        print(response)\n",
        "\n",
        "interactive_tutor()\n"
      ],
      "metadata": {
        "colab": {
          "base_uri": "https://localhost:8080/"
        },
        "id": "F-fwBdMQ03_1",
        "outputId": "78a08a29-6c7c-4f5d-f1e3-bc289bb3ff90"
      },
      "execution_count": 4,
      "outputs": [
        {
          "output_type": "stream",
          "name": "stdout",
          "text": [
            "Welcome to LlamaTutor!\n",
            "Enter a topic you'd like to learn (or 'exit' to quit): Factions\n",
            "No related benchmarks found.\n",
            "\n",
            "LlamaTutor Response:\n",
            "Factions can refer to various groups or organizations within a society, community, or system, often with distinct interests, values, or goals. Here are some examples of factions:\n",
            "\n",
            "1. **Political Factions**: Groups within a political party or government that have different ideologies, policies, or leadership styles. Examples include the Democratic and Republican parties in the United States.\n",
            "2. **Social Factions**: Groups within a society that have distinct social, cultural, or economic characteristics. Examples include racial or ethnic groups, social classes, or subcultures.\n",
            "3. **Military Factions**: Groups within a military organization that have different loyalties, ideologies, or goals. Examples include rebel groups, insurgent organizations, or rival factions within a military.\n",
            "4. **Business Factions**: Groups within a company or industry that have different interests, goals, or values. Examples include rival departments, unions, or industry associations.\n",
            "5. **Gaming Factions**: Groups within a game or online community that have distinct roles, goals, or playstyles. Examples include guilds, clans, or factions in massively multiplayer online games (MMOs).\n",
            "\n",
            "Some notable examples of factions in history and fiction include:\n",
            "\n",
            "* **The Roman Republic's Optimates and Populares**: Two factions within the Roman Republic that had different views on governance and power.\n",
            "* **The French Revolution's Girondins and Jacobins**: Two factions within the French Revolution that had different views on governance and the role of the monarchy.\n",
            "* **The Star Wars galaxy's Jedi and Sith**: Two factions of Force-sensitives with different ideologies and goals.\n",
            "* **The Lord of the Rings' Free Peoples and Dark Lord's armies**: Two factions in J.R.R. Tolkien's Middle-earth with different goals and values.\n",
            "\n",
            "Factions can be formed for various reasons, including:\n",
            "\n",
            "* **Ideological differences**: Groups may form around shared values, beliefs, or goals.\n",
            "* **Power struggles**: Groups may form to gain power, influence, or control over resources.\n",
            "* **Cultural or social differences**: Groups may form around shared cultural, social, or economic characteristics.\n",
            "* **Self-interest**: Groups may form to advance their own interests or goals.\n",
            "\n",
            "Factions can have both positive and negative effects on a society or community. On the positive side, factions can:\n",
            "\n",
            "* **Promote diversity and representation**: Factions can provide a platform for diverse voices and perspectives.\n",
            "* **Encourage innovation and progress**: Factions can drive innovation and progress by challenging the status quo.\n",
            "* **Provide a sense of belonging**: Factions can provide a sense of community and belonging for their members.\n",
            "\n",
            "On the negative side, factions can:\n",
            "\n",
            "* **Create conflict and division**: Factions can lead to conflict and division within a society or community.\n",
            "* **Perpetuate inequality and injustice**: Factions can perpetuate inequality and injustice by favoring their own interests over others.\n",
            "* **Undermine cooperation and collaboration**: Factions can undermine cooperation and collaboration by prioritizing their own goals over the greater good.\n",
            "Enter a topic you'd like to learn (or 'exit' to quit): exit\n",
            "Thank you for using LlamaTutor!\n"
          ]
        }
      ]
    },
    {
      "cell_type": "markdown",
      "source": [
        "# Full Project\n",
        "\n",
        "The complete LlamaTutor project, including deployment, is available on [GitHub](https://github.com/kalopez0621/LlamaTutor_New).\n"
      ],
      "metadata": {
        "id": "m2Kgu9N11qwA"
      }
    },
    {
      "cell_type": "markdown",
      "source": [
        "# Production Deployment with Vercel\n",
        "\n",
        "To ensure the LlamaTutor application is easily accessible to users, I deployed it using Vercel, a cloud platform for hosting and scaling front-end applications. The deployment process allows the application to run seamlessly online with minimal setup, making it accessible to middle school students, parents, and educators through a simple URL.\n",
        "\n",
        "**Deployment Process:**\n",
        "- Repository Hosting: The LlamaTutor codebase is hosted on GitHub in a repository titled LlamaTutor_New. This repository contains all the files and configurations needed for deployment.\n",
        "- Integration with Vercel: The repository was linked to a Vercel account, and the deployment was initiated with a single click.\n",
        "- Continuous Deployment: Vercel monitors the repository for updates, automatically rebuilding and redeploying the application whenever changes are pushed to the main branch. This ensures that the application remains up-to-date with the latest features and fixes.\n",
        "\n",
        "**Features of the Deployment:**\n",
        "- Public Accessibility: The application is hosted on a custom URL provided by Vercel, making it easy for anyone to access without needing to install additional software.\n",
        "- Scalability: Vercel ensures the application can handle multiple users simultaneously without degradation in performance.\n",
        "- Global Distribution: With Vercel’s global content delivery network (CDN), the application loads quickly for users anywhere in the world.\n",
        "- Custom Domain: Optionally, a custom domain can be configured to further personalize the user experience.\n",
        "Production URL:\n",
        "\n",
        "The deployed version of the LlamaTutor can be accessed at the following URL:\n",
        "[LlamaTutor Deployed App](https://https://llama-tutor-new.vercel.app/)"
      ],
      "metadata": {
        "id": "KZkGSBXx3Qen"
      }
    },
    {
      "cell_type": "markdown",
      "source": [
        "# **Business Use Case**\n",
        "\n",
        "LlamaTutor is an interactive AI-driven tutoring platform designed to bridge the gap in personalized learning for middle school students in Florida. Traditional classroom settings often struggle to address the unique pace and understanding of every student, leading to gaps in comprehension and engagement. LlamaTutor leverages cutting-edge AI models, like Together AI and Llama 3.1, to provide an intuitive, interactive learning experience tailored specifically to Florida's educational standards. By integrating the Florida Benchmarks for Excellent Student Thinking (B.E.S.T.), LlamaTutor ensures that students receive support and exercises aligned with their curriculum, addressing common challenges in mathematics, such as algebraic reasoning, geometric reasoning, and data analysis.\n",
        "\n",
        "Through conversational interactions, LlamaTutor not only explains concepts but also quizzes students to reinforce understanding, ensuring they master each topic effectively. The application eliminates the need for expensive one-on-one tutoring by offering on-demand assistance for topics students struggle with, enhancing their confidence and performance in state tests and beyond."
      ],
      "metadata": {
        "id": "hhSluRSLymnI"
      }
    },
    {
      "cell_type": "markdown",
      "source": [
        "# **Business Value**\n",
        "\n",
        "LlamaTutor delivers significant value to schools, parents, and educational institutions by promoting equity in learning. Schools can integrate the platform to complement classroom instruction, especially for students requiring additional support, thus boosting overall academic outcomes. For parents, the platform serves as an affordable alternative to private tutoring, providing high-quality, curriculum-aligned guidance at no extra cost.\n",
        "\n",
        "Educational institutions can also benefit from data-driven insights into student performance, as LlamaTutor has the potential to track common areas of difficulty, enabling teachers to refine their instructional strategies. By aligning with Florida's educational standards, the application ensures compliance with curriculum requirements, making it a reliable tool for academic success. The automation and scalability of the AI-driven tutor reduce operational costs for schools while maintaining high-quality educational support for every student, empowering them to achieve excellence in their studies."
      ],
      "metadata": {
        "id": "cYwIHXl32JVT"
      }
    }
  ]
}